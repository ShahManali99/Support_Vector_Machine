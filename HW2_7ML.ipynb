{
  "nbformat": 4,
  "nbformat_minor": 0,
  "metadata": {
    "colab": {
      "provenance": [],
      "gpuType": "T4"
    },
    "kernelspec": {
      "name": "python3",
      "display_name": "Python 3"
    },
    "language_info": {
      "name": "python"
    },
    "accelerator": "GPU"
  },
  "cells": [
    {
      "cell_type": "code",
      "execution_count": 7,
      "metadata": {
        "id": "59iG8-pHzxdA"
      },
      "outputs": [],
      "source": [
        "#@title This code implements the training of the support vector machine (SVM).\n",
        "\n",
        "from sklearn.svm import SVC # This package will help you run the direct SVM model\n",
        "from sklearn.metrics import accuracy_score # Use accruacy_score to find out accuracy of your model\n",
        "\n",
        "def svm_training(dataset, testing_dataset):\n",
        "    # To-Do\n",
        "    # Extract the x_train, y_train from the training dataset\n",
        "    x_train = [sample[0:2] for sample in dataset]\n",
        "    y_train = [sample[2] for sample in dataset]\n",
        "    # Extract the x_test, y_test from the testing dataset\n",
        "    x_test = [sample[0:2] for sample in testing_dataset]\n",
        "    y_test = [sample[2] for sample in testing_dataset]\n",
        "    # Use the linear function of the SVM algorithm. Hint: use SVC()\n",
        "    model = SVC(kernel = 'linear')\n",
        "    # Train the model using the x_train and y_train. Hint: use .fit()\n",
        "    model.fit(x_train,y_train)\n",
        "    # Run prediction after training on the testing dataset. Hint: use .predict()\n",
        "    predictions = model.predict(x_test)\n",
        "    # Return your final accuracy. Hint: use accuracy_score()\n",
        "    return accuracy_score(y_test,predictions)"
      ]
    },
    {
      "cell_type": "code",
      "source": [
        "def generate_samples(subset):\n",
        "\n",
        "    # Initilize the dataset\n",
        "    Sn = [] # List to store negative samples\n",
        "    Sp = [] # List to store positive samples\n",
        "    num_n = 0 # Counter for negative samples\n",
        "    num_p = 0 # Counter for positive samples\n",
        "\n",
        "    while len(Sp) < 20 or len(Sn) < 20:\n",
        "      i1, i2 = np.random.uniform(-5, 5, 2)\n",
        "      if i1 + i2 >= 0 and len(Sp) < 20:\n",
        "          Sp.append([i1, i2, 1])\n",
        "      elif i1 + i2 < 0 and len(Sn) < 20:\n",
        "          Sn.append([i1, i2, -1])\n",
        "\n",
        "    # Splitting samples into training and testing samples\n",
        "    testing_samples = Sp[10:] + Sn[10:]\n",
        "\n",
        "    # First split: subset of the samples used for training\n",
        "    training_samples = Sp[:subset] + Sn[:subset]\n",
        "\n",
        "    return training_samples, testing_samples"
      ],
      "metadata": {
        "id": "rxwTZXX6D-hW"
      },
      "execution_count": 8,
      "outputs": []
    },
    {
      "cell_type": "code",
      "source": [
        "import numpy as np\n",
        "\n",
        "avg_acc_100 = []\n",
        "avg_acc_50 = []\n",
        "\n",
        "for _ in range(20):\n",
        "\n",
        "    # Using 100% of the training samples\n",
        "    training_data, testing_data = generate_samples(10)\n",
        "    accuracy_100 = svm_training(training_data, testing_data)  # Evaluating on training data\n",
        "    avg_acc_100.append(accuracy_100)\n",
        "\n",
        "    # Using 50% of the training samples\n",
        "    training_data, testing_data = generate_samples(5)\n",
        "    accuracy_50 = svm_training(training_data, testing_data)\n",
        "    avg_acc_50.append(accuracy_50)\n",
        "\n",
        "print(\"Average Accuracy (and standard deviation) using 100% training samples:\", np.mean(avg_acc_100), np.std(avg_acc_100))\n",
        "print(\"Average Accuracy (and standard deviation) using 50% training samples:\", np.mean(avg_acc_50), np.std(avg_acc_50))\n"
      ],
      "metadata": {
        "id": "CqyllsEiz643",
        "colab": {
          "base_uri": "https://localhost:8080/"
        },
        "outputId": "00fbf4ec-c320-48dc-ea20-4db597c055b7"
      },
      "execution_count": 9,
      "outputs": [
        {
          "output_type": "stream",
          "name": "stdout",
          "text": [
            "Average Accuracy (and standard deviation) using 100% training samples: 0.9699999999999998 0.03674234614174767\n",
            "Average Accuracy (and standard deviation) using 50% training samples: 0.9275 0.08437268515343102\n"
          ]
        }
      ]
    }
  ]
}