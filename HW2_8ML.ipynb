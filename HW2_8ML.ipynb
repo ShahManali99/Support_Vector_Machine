{
  "nbformat": 4,
  "nbformat_minor": 0,
  "metadata": {
    "colab": {
      "provenance": []
    },
    "kernelspec": {
      "name": "python3",
      "display_name": "Python 3"
    },
    "language_info": {
      "name": "python"
    }
  },
  "cells": [
    {
      "cell_type": "markdown",
      "source": [
        "#Install libsvm-official"
      ],
      "metadata": {
        "id": "4RkmxZ3VdKcQ"
      }
    },
    {
      "cell_type": "code",
      "source": [
        "!pip install -U libsvm-official"
      ],
      "metadata": {
        "colab": {
          "base_uri": "https://localhost:8080/"
        },
        "id": "Kaw0Et9Fn_X2",
        "outputId": "afa3b63f-9b83-49ee-e760-9d8d4bc55d6c"
      },
      "execution_count": 15,
      "outputs": [
        {
          "output_type": "stream",
          "name": "stdout",
          "text": [
            "Requirement already satisfied: libsvm-official in /usr/local/lib/python3.10/dist-packages (3.32.0)\n",
            "Requirement already satisfied: scipy in /usr/local/lib/python3.10/dist-packages (from libsvm-official) (1.11.4)\n",
            "Requirement already satisfied: numpy<1.28.0,>=1.21.6 in /usr/local/lib/python3.10/dist-packages (from scipy->libsvm-official) (1.23.5)\n"
          ]
        }
      ]
    },
    {
      "cell_type": "markdown",
      "source": [
        "# Import necessary libraries"
      ],
      "metadata": {
        "id": "O33hs5-2dQ6p"
      }
    },
    {
      "cell_type": "code",
      "source": [
        "import numpy as np\n",
        "import scipy\n",
        "from libsvm.svmutil import *"
      ],
      "metadata": {
        "id": "b0tkTKM1dGDW"
      },
      "execution_count": 16,
      "outputs": []
    },
    {
      "cell_type": "markdown",
      "source": [
        "#Part 1 of the main code\n",
        "Without scaling the dataset\n",
        "\n"
      ],
      "metadata": {
        "id": "cRk3IhAKdZk9"
      }
    },
    {
      "cell_type": "code",
      "source": [
        "# Read the training data from file 'svmguide1' and store the labels in 'y' and features in 'x',\n",
        "# using the compressed sparse row (CSR) format\n",
        "# To-Do: use svm_read_problem(), using \"return_scipy=True\"\n",
        "y,x = svm_read_problem('svmguide1', return_scipy=True)\n",
        "# Train an SVM model on the data using a radial basis function (RBF) kernel with\n",
        "# Set gamma and cost parameter C according the instructions mentioned in PPT\n",
        "# To-Do: use svm_train()\n",
        "model = svm_train(y, x, '-c 32 -t 2 -g 2')\n",
        "# Read the test data from file 'svmguide1.t' and store the labels in 'y' and features in 'x'\n",
        "# To-Do: use svm_read_problem(), using \"return_scipy=True\"\n",
        "y_test,x_test = svm_read_problem('svmguide1.t', return_scipy=True)\n",
        "# Use the trained SVM model to predict the labels for the test data, and store the predicted\n",
        "# labels in 'p_label', the accuracy in 'p_acc', and the decision values in 'p_val'\n",
        "# To-Do: use svm_predict()\n",
        "p_label, p_acc, p_val = svm_predict(y_test, x_test, model)"
      ],
      "metadata": {
        "id": "GRI0VoC6ancP",
        "colab": {
          "base_uri": "https://localhost:8080/"
        },
        "outputId": "eb6f613a-e90b-4716-c978-d581b72053f8"
      },
      "execution_count": 26,
      "outputs": [
        {
          "output_type": "stream",
          "name": "stdout",
          "text": [
            "Accuracy = 52.625% (2105/4000) (classification)\n"
          ]
        }
      ]
    },
    {
      "cell_type": "markdown",
      "source": [
        "#Part 2 of the main code\n",
        "\n",
        "With scaling the dataset"
      ],
      "metadata": {
        "id": "l9NHB3a2eV5k"
      }
    },
    {
      "cell_type": "code",
      "execution_count": 27,
      "metadata": {
        "id": "o0TXvYQ2m5sC",
        "colab": {
          "base_uri": "https://localhost:8080/"
        },
        "outputId": "f23e8eba-a28f-4d31-9324-8eafad7899c3"
      },
      "outputs": [
        {
          "output_type": "stream",
          "name": "stderr",
          "text": [
            "WARNING: original #nonzeros 12319\n",
            "       > new      #nonzeros 12356\n",
            "If feature values are non-negative and sparse, get scale_param by setting lower=0 rather than the default lower=-1.\n",
            "WARNING: original #nonzeros 15985\n",
            "       > new      #nonzeros 16000\n",
            "If feature values are non-negative and sparse, get scale_param by setting lower=0 rather than the default lower=-1.\n"
          ]
        },
        {
          "output_type": "stream",
          "name": "stdout",
          "text": [
            "Accuracy = 97.075% (3883/4000) (classification)\n"
          ]
        }
      ],
      "source": [
        "# Read the training data from file 'svmguide1' and store the labels in 'y' and features in 'x',\n",
        "# using the compressed sparse row (CSR) format\n",
        "# To-Do: use svm_read_problem(), using \"return_scipy=True\"\n",
        "y,x = svm_read_problem('svmguide1', return_scipy=True)\n",
        "# Compute the scaling parameter for the feature data\n",
        "# To-Do: use csr_find_scale_param()\n",
        "# To-Do: please save the scale parameters\n",
        "scale_param = csr_find_scale_param(x)\n",
        "# Scale the feature data using the computed scaling parameter\n",
        "# To-Do: use csr_scale()\n",
        "# To-Do: please store the results into scaled_x\n",
        "scaled_x = csr_scale(x, scale_param)\n",
        "# Train an SVM model on the scaled data using a radial basis function (RBF) kernel with\n",
        "# Set gamma and cost parameter C according the instructions mentioned in PPT\n",
        "# To-Do: use svm_train()\n",
        "model = svm_train(y, scaled_x, '-c 32 -t 2 -g 2')\n",
        "# Read the test data from file 'svmguide1.t' and store the labels in 'y' and features in 'x'\n",
        "# using the compressed sparse row (CSR) format\n",
        "# To-Do: use svm_read_problem(), using \"return_scipy=True\"\n",
        "y_test,x_test = svm_read_problem('svmguide1.t', return_scipy=True)\n",
        "# Scale the test feature data using the same scaling parameter used for the training data\n",
        "# To-Do: use csr_scale()\n",
        "# To-Do: please use the scale parameters earlier\n",
        "# To-Do: please store the results into scaled_test_x\n",
        "scaled_test_x = csr_scale(x_test, scale_param)\n",
        "# Use the trained SVM model to predict the labels for the test data, and store the predicted\n",
        "# labels in 'p_label', the accuracy in 'p_acc', and the decision values in 'p_val'\n",
        "# To-Do: use svm_predict()\n",
        "p_label, p_acc, p_val = svm_predict(y_test, scaled_test_x, model)"
      ]
    },
    {
      "cell_type": "markdown",
      "source": [
        "#Part 3 of the main code\n",
        "\n",
        "Testing different C"
      ],
      "metadata": {
        "id": "okwZF037zqAe"
      }
    },
    {
      "cell_type": "code",
      "execution_count": 28,
      "metadata": {
        "id": "6E95CnOuzmtm",
        "colab": {
          "base_uri": "https://localhost:8080/"
        },
        "outputId": "860bb7d6-0c7a-4a36-d0b2-d37369cc9769"
      },
      "outputs": [
        {
          "output_type": "stream",
          "name": "stderr",
          "text": [
            "WARNING: original #nonzeros 12319\n",
            "       > new      #nonzeros 12356\n",
            "If feature values are non-negative and sparse, get scale_param by setting lower=0 rather than the default lower=-1.\n",
            "WARNING: original #nonzeros 15985\n",
            "       > new      #nonzeros 16000\n",
            "If feature values are non-negative and sparse, get scale_param by setting lower=0 rather than the default lower=-1.\n"
          ]
        },
        {
          "output_type": "stream",
          "name": "stdout",
          "text": [
            "-t 2 -g 2 -c 2\n",
            "Accuracy on training data\n",
            "Accuracy = 97.1512% (3001/3089) (classification)\n",
            "Accuracy on testing data\n",
            "Accuracy = 96.875% (3875/4000) (classification)\n",
            "-t 2 -g 2 -c 8\n",
            "Accuracy on training data\n",
            "Accuracy = 97.2159% (3003/3089) (classification)\n",
            "Accuracy on testing data\n",
            "Accuracy = 96.95% (3878/4000) (classification)\n",
            "-t 2 -g 2 -c 32\n",
            "Accuracy on training data\n",
            "Accuracy = 97.5073% (3012/3089) (classification)\n",
            "Accuracy on testing data\n",
            "Accuracy = 97.075% (3883/4000) (classification)\n",
            "-t 2 -g 2 -c 128\n",
            "Accuracy on training data\n",
            "Accuracy = 97.6368% (3016/3089) (classification)\n",
            "Accuracy on testing data\n",
            "Accuracy = 96.625% (3865/4000) (classification)\n",
            "-t 2 -g 2 -c 512\n",
            "Accuracy on training data\n",
            "Accuracy = 97.7986% (3021/3089) (classification)\n",
            "Accuracy on testing data\n",
            "Accuracy = 96.375% (3855/4000) (classification)\n"
          ]
        }
      ],
      "source": [
        "# Read the training data from file 'svmguide1' and store the labels in 'y' and features in 'x',\n",
        "# using the compressed sparse row (CSR) format\n",
        "# To-Do: use svm_read_problem(), using \"return_scipy=True\"\n",
        "y,x = svm_read_problem('svmguide1', return_scipy=True)\n",
        "# Compute the scaling parameter for the feature data\n",
        "# To-Do: use csr_find_scale_param()\n",
        "# To-Do: please save the scale parameters\n",
        "scale_param = csr_find_scale_param(x)\n",
        "# Scale the feature data using the computed scaling parameter\n",
        "# To-Do: use csr_scale()\n",
        "# To-Do: please store the results into scaled_x\n",
        "scaled_x = csr_scale(x, scale_param)\n",
        "# Read the test data from file 'svmguide1.t' and store the labels in 'y' and features in 'x'\n",
        "# using the compressed sparse row (CSR) format\n",
        "# To-Do: use svm_read_problem(), using \"return_scipy=True\"\n",
        "y_test,x_test = svm_read_problem('svmguide1.t', return_scipy=True)\n",
        "# Scale the test feature data using the same scaling parameter used for the training data\n",
        "# To-Do: use csr_scale()\n",
        "# To-Do: please use the scale parameters earlier\n",
        "# To-Do: please store the results into scaled_test_x\n",
        "scaled_test_x = csr_scale(x_test, scale_param)\n",
        "for c in range(0,5):\n",
        "  # Train an SVM model on the scaled data using a radial basis function (RBF) kernel with\n",
        "  # gamma = 2 and cost parameter C = 2...512\n",
        "  parameters='-t 2 -g 2 -c '+str(2**(2*c+1))\n",
        "  print (parameters)\n",
        "  # To-Do: use svm_train()\n",
        "  model = svm_train(y, scaled_x, parameters)\n",
        "  # Use the trained SVM model to predict the labels for the training data, and store the predicted\n",
        "  # labels in 'p_label', the accuracy in 'p_acc', and the decision values in 'p_val'\n",
        "  print (\"Accuracy on training data\")\n",
        "  # To-Do: use svm_predict()\n",
        "  p_label, p_acc, p_val = svm_predict(y, scaled_x, model)\n",
        "  # Use the trained SVM model to predict the labels for the test data, and store the predicted\n",
        "  # labels in 'p_label', the accuracy in 'p_acc', and the decision values in 'p_val'\n",
        "  print (\"Accuracy on testing data\")\n",
        "  # To-Do: use svm_predict()\n",
        "  p_label, p_acc, p_val = svm_predict(y_test, scaled_test_x, model)"
      ]
    },
    {
      "cell_type": "code",
      "source": [],
      "metadata": {
        "id": "M9HVRezEZD1o"
      },
      "execution_count": null,
      "outputs": []
    },
    {
      "cell_type": "code",
      "source": [],
      "metadata": {
        "id": "wDsvdI4RYpA4"
      },
      "execution_count": null,
      "outputs": []
    }
  ]
}